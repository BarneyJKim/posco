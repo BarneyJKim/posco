{
  "nbformat": 4,
  "nbformat_minor": 0,
  "metadata": {
    "colab": {
      "name": "Train_Test_Scale_Example.ipynb",
      "provenance": [],
      "authorship_tag": "ABX9TyOJ9uojlDII+GHfJX5sEwSW",
      "include_colab_link": true
    },
    "kernelspec": {
      "name": "python3",
      "display_name": "Python 3"
    },
    "language_info": {
      "name": "python"
    }
  },
  "cells": [
    {
      "cell_type": "markdown",
      "metadata": {
        "id": "view-in-github",
        "colab_type": "text"
      },
      "source": [
        "<a href=\"https://colab.research.google.com/github/BarneyJKim/posco/blob/master/Train_Test_Scale_Example.ipynb\" target=\"_parent\"><img src=\"https://colab.research.google.com/assets/colab-badge.svg\" alt=\"Open In Colab\"/></a>"
      ]
    },
    {
      "cell_type": "code",
      "execution_count": 5,
      "metadata": {
        "id": "97Blha1Bq7Ek"
      },
      "outputs": [],
      "source": [
        "import numpy as np\n",
        "from sklearn.preprocessing import MinMaxScaler\n",
        "\n",
        "train_array=np.arange(0,11).reshape(-1,1)\n",
        "test_array=np.arange(0,6).reshape(-1,1)"
      ]
    },
    {
      "cell_type": "code",
      "source": [
        "np.arange(0,11)"
      ],
      "metadata": {
        "colab": {
          "base_uri": "https://localhost:8080/"
        },
        "id": "qlJr0bhfrU8R",
        "outputId": "425ce6e8-56a5-499a-f5f3-360c4e8f4abf"
      },
      "execution_count": 8,
      "outputs": [
        {
          "output_type": "execute_result",
          "data": {
            "text/plain": [
              "array([ 0,  1,  2,  3,  4,  5,  6,  7,  8,  9, 10])"
            ]
          },
          "metadata": {},
          "execution_count": 8
        }
      ]
    },
    {
      "cell_type": "code",
      "source": [
        "np.arange(0,6)"
      ],
      "metadata": {
        "colab": {
          "base_uri": "https://localhost:8080/"
        },
        "id": "w2enWY_tvdvS",
        "outputId": "3c920304-1ea7-4dca-dcc0-f19018e96065"
      },
      "execution_count": 10,
      "outputs": [
        {
          "output_type": "execute_result",
          "data": {
            "text/plain": [
              "array([0, 1, 2, 3, 4, 5])"
            ]
          },
          "metadata": {},
          "execution_count": 10
        }
      ]
    },
    {
      "cell_type": "code",
      "source": [
        "scaler=MinMaxScaler()\n",
        "\n",
        "scaler.fit(train_array)\n",
        "\n",
        "train_scaled=scaler.transform(train_array)\n",
        "test_scaled=scaler.transform(test_array)\n",
        "\n",
        "print(f'train_scaled={train_scaled}')\n",
        "print(f'test_scaled={test_scaled}')"
      ],
      "metadata": {
        "colab": {
          "base_uri": "https://localhost:8080/"
        },
        "id": "piWl0Ik8rgoW",
        "outputId": "9187e661-fd5a-4c81-efec-609d68a1bc53"
      },
      "execution_count": 9,
      "outputs": [
        {
          "output_type": "stream",
          "name": "stdout",
          "text": [
            "train_scaled=[[0. ]\n",
            " [0.1]\n",
            " [0.2]\n",
            " [0.3]\n",
            " [0.4]\n",
            " [0.5]\n",
            " [0.6]\n",
            " [0.7]\n",
            " [0.8]\n",
            " [0.9]\n",
            " [1. ]]\n",
            "test_scaled=[[0. ]\n",
            " [0.1]\n",
            " [0.2]\n",
            " [0.3]\n",
            " [0.4]\n",
            " [0.5]]\n"
          ]
        }
      ]
    },
    {
      "cell_type": "code",
      "source": [
        "scaler=MinMaxScaler()\n",
        "\n",
        "scaler.fit(train_array)\n",
        "train_scaled=scaler.transform(train_array)\n",
        "\n",
        "scaler.fit(test_array)\n",
        "test_scaled=scaler.transform(test_array)\n",
        "\n",
        "print(f'train_scaled={train_scaled}')\n",
        "print(f'test_scaled={test_scaled}')"
      ],
      "metadata": {
        "colab": {
          "base_uri": "https://localhost:8080/"
        },
        "id": "iT7EXV6ir33T",
        "outputId": "ca770725-304e-466e-c3ab-99b3f978afc2"
      },
      "execution_count": 11,
      "outputs": [
        {
          "output_type": "stream",
          "name": "stdout",
          "text": [
            "train_scaled=[[0. ]\n",
            " [0.1]\n",
            " [0.2]\n",
            " [0.3]\n",
            " [0.4]\n",
            " [0.5]\n",
            " [0.6]\n",
            " [0.7]\n",
            " [0.8]\n",
            " [0.9]\n",
            " [1. ]]\n",
            "test_scaled=[[0. ]\n",
            " [0.2]\n",
            " [0.4]\n",
            " [0.6]\n",
            " [0.8]\n",
            " [1. ]]\n"
          ]
        }
      ]
    }
  ]
}